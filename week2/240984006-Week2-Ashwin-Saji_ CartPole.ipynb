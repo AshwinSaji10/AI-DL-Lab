{
 "cells": [
  {
   "cell_type": "markdown",
   "id": "6107086e",
   "metadata": {
    "id": "6107086e"
   },
   "source": [
    "AI/DL LAB Week 2:\n",
    "\n",
    "Question 1.\tUse the TF-Agents & an environment and write a program to implement the environment for a certain number of steps, for a certain number of episodes. Compare and comment on the rewards earned for both approaches and plot the cumulative reward of each game.\n",
    "\n",
    "Ashwin Saji(240984006)"
   ]
  },
  {
   "cell_type": "code",
   "execution_count": null,
   "id": "06b8668c",
   "metadata": {
    "id": "06b8668c",
    "outputId": "16dd2334-f281-4c9f-cac6-c252896f6f77"
   },
   "outputs": [
    {
     "name": "stderr",
     "output_type": "stream",
     "text": [
      "C:\\Users\\mca\\AppData\\Roaming\\Python\\Python39\\site-packages\\gym\\envs\\registration.py:555: UserWarning: \u001b[33mWARN: The environment CartPole-v0 is out of date. You should consider upgrading to version `v1`.\u001b[0m\n",
      "  logger.warn(\n"
     ]
    }
   ],
   "source": [
    "import gym\n",
    "import numpy as np\n",
    "import matplotlib.pyplot as plt\n",
    "\n",
    "env = gym.make(\"CartPole-v0\",render_mode='rgb_array')"
   ]
  },
  {
   "cell_type": "code",
   "execution_count": null,
   "id": "67581c99",
   "metadata": {
    "id": "67581c99",
    "outputId": "e9786402-b4f7-4d20-edde-5004815253aa",
    "scrolled": true
   },
   "outputs": [
    {
     "name": "stdout",
     "output_type": "stream",
     "text": [
      "Observation Space: Box([-4.8000002e+00 -3.4028235e+38 -4.1887903e-01 -3.4028235e+38], [4.8000002e+00 3.4028235e+38 4.1887903e-01 3.4028235e+38], (4,), float32)\n",
      "Observation Space Shape: (4,)\n"
     ]
    }
   ],
   "source": [
    "print(\"Observation Space:\", env.observation_space)\n",
    "print(\"Observation Space Shape:\", env.observation_space.shape)"
   ]
  },
  {
   "cell_type": "markdown",
   "id": "ad0b9ab1",
   "metadata": {
    "id": "ad0b9ab1"
   },
   "source": [
    "#### Observation space is cart's position, velocity, pole angle, and pole angular velocity"
   ]
  },
  {
   "cell_type": "code",
   "execution_count": null,
   "id": "22a3fdcc",
   "metadata": {
    "id": "22a3fdcc",
    "outputId": "3c24528c-f3d1-46c3-dc99-794e3a891947"
   },
   "outputs": [
    {
     "name": "stdout",
     "output_type": "stream",
     "text": [
      "Action Space: Discrete(2)\n",
      "Action Space N: 2\n"
     ]
    }
   ],
   "source": [
    "print(\"Action Space:\", env.action_space)\n",
    "print(\"Action Space N:\", env.action_space.n)"
   ]
  },
  {
   "cell_type": "markdown",
   "id": "8a195b50",
   "metadata": {
    "id": "8a195b50"
   },
   "source": [
    "#### 2 possible actions; 0 is move cart to the left; 1 is move cart to the right"
   ]
  },
  {
   "cell_type": "code",
   "execution_count": null,
   "id": "b31e5a95",
   "metadata": {
    "id": "b31e5a95",
    "outputId": "5729f675-e41b-4cba-9f77-8100b9d770d9",
    "scrolled": true
   },
   "outputs": [
    {
     "name": "stdout",
     "output_type": "stream",
     "text": [
      "Reward Range: (-inf, inf)\n",
      "Initial State: (array([-0.03430528, -0.03434007,  0.03808074, -0.01337756], dtype=float32), {})\n"
     ]
    }
   ],
   "source": [
    "print(\"Reward Range:\", env.reward_range)\n",
    "state = env.reset()\n",
    "print(\"Initial State:\", state)"
   ]
  },
  {
   "cell_type": "markdown",
   "id": "fce0b116",
   "metadata": {
    "id": "fce0b116"
   },
   "source": [
    "#### Running 1 step"
   ]
  },
  {
   "cell_type": "code",
   "execution_count": null,
   "id": "d4fb3356",
   "metadata": {
    "id": "d4fb3356",
    "outputId": "05f5efd5-f341-4894-dc2c-bced82a292f9"
   },
   "outputs": [
    {
     "name": "stdout",
     "output_type": "stream",
     "text": [
      "Action: 0\n",
      "Reward: 1.0\n",
      "Done: False\n",
      "Truncated: False\n",
      "Info: {}\n"
     ]
    },
    {
     "name": "stderr",
     "output_type": "stream",
     "text": [
      "C:\\Users\\mca\\AppData\\Roaming\\Python\\Python39\\site-packages\\gym\\utils\\passive_env_checker.py:233: DeprecationWarning: `np.bool8` is a deprecated alias for `np.bool_`.  (Deprecated NumPy 1.24)\n",
      "  if not isinstance(terminated, (bool, np.bool8)):\n"
     ]
    }
   ],
   "source": [
    "state = env.reset()\n",
    "action = env.action_space.sample()\n",
    "state, reward, done, truncated, info = env.step(action)\n",
    "\n",
    "print(f\"Action: {action}\")\n",
    "print(f\"Reward: {reward}\")\n",
    "print(f\"Done: {done}\")\n",
    "print(f\"Truncated: {truncated}\")\n",
    "print(f\"Info: {info}\")"
   ]
  },
  {
   "cell_type": "markdown",
   "id": "57cb9e38",
   "metadata": {
    "id": "57cb9e38"
   },
   "source": [
    " ## Implement the CartPole environment for a certain number of steps"
   ]
  },
  {
   "cell_type": "code",
   "execution_count": null,
   "id": "3000e0d1",
   "metadata": {
    "id": "3000e0d1",
    "outputId": "392d1fde-45a8-4c20-b1a1-49626748f673"
   },
   "outputs": [
    {
     "name": "stdout",
     "output_type": "stream",
     "text": [
      "Total reward after 1000 steps: 22.0\n"
     ]
    },
    {
     "data": {
      "image/png": "[encoded data removed]",
      "text/plain": [
       "<Figure size 720x360 with 2 Axes>"
      ]
     },
     "metadata": {
      "needs_background": "light"
     },
     "output_type": "display_data"
    }
   ],
   "source": [
    "n_steps = 1000\n",
    "\n",
    "state = env.reset()\n",
    "initial_frame=env.render()\n",
    "plt.figure(figsize=(10, 5))\n",
    "plt.subplot(1, 2, 1)\n",
    "plt.imshow(initial_frame)\n",
    "plt.title(\"Before Action (Initial State)\")\n",
    "total_reward = 0\n",
    "reward_per_step = []\n",
    "for step in range(n_steps):\n",
    "\n",
    "    action = env.action_space.sample()\n",
    "    state, reward, done, truncated, info = env.step(action)\n",
    "    total_reward += reward\n",
    "    reward_per_step.append(total_reward)\n",
    "\n",
    "    if done:\n",
    "        break\n",
    "env.close()\n",
    "print(f\"Total reward after {n_steps} steps: {total_reward}\")\n",
    "new_frame = env.render()\n",
    "plt.subplot(1, 2, 2)\n",
    "plt.imshow(new_frame)\n",
    "plt.title(\"After Action (New State)\")\n",
    "plt.show()"
   ]
  },
  {
   "cell_type": "markdown",
   "id": "7fd13b08",
   "metadata": {
    "id": "7fd13b08"
   },
   "source": [
    " ## Implement the CartPole environment for a certain number of episodes"
   ]
  },
  {
   "cell_type": "code",
   "execution_count": null,
   "id": "7fb37691",
   "metadata": {
    "id": "7fb37691",
    "outputId": "a92db203-4dcc-4820-bbde-1f1a62249502"
   },
   "outputs": [
    {
     "name": "stdout",
     "output_type": "stream",
     "text": [
      "Episode 1 ended with total reward: 12.0\n",
      "Episode 2 ended with total reward: 24.0\n",
      "Episode 3 ended with total reward: 11.0\n",
      "Episode 4 ended with total reward: 18.0\n",
      "Episode 5 ended with total reward: 31.0\n",
      "Episode 6 ended with total reward: 38.0\n",
      "Episode 7 ended with total reward: 20.0\n",
      "Episode 8 ended with total reward: 35.0\n",
      "Episode 9 ended with total reward: 20.0\n",
      "Episode 10 ended with total reward: 19.0\n",
      "Episode 11 ended with total reward: 21.0\n",
      "Episode 12 ended with total reward: 18.0\n",
      "Episode 13 ended with total reward: 8.0\n",
      "Episode 14 ended with total reward: 26.0\n",
      "Episode 15 ended with total reward: 15.0\n",
      "Episode 16 ended with total reward: 16.0\n",
      "Episode 17 ended with total reward: 61.0\n",
      "Episode 18 ended with total reward: 12.0\n",
      "Episode 19 ended with total reward: 18.0\n",
      "Episode 20 ended with total reward: 13.0\n",
      "Total reward after 20 episodes: 436.0\n"
     ]
    }
   ],
   "source": [
    "n_episodes = 20\n",
    "total_reward = 0\n",
    "episode_rewards = []\n",
    "for episode in range(n_episodes):\n",
    "    state = env.reset()\n",
    "    episode_reward = 0\n",
    "    done = False\n",
    "    while not done:\n",
    "        action = env.action_space.sample()\n",
    "        state, reward, done, truncated, info = env.step(action)\n",
    "        episode_reward += reward\n",
    "\n",
    "    episode_rewards.append(episode_reward)\n",
    "    print(f\"Episode {episode+1} ended with total reward: {episode_reward}\")\n",
    "\n",
    "    total_reward += episode_reward\n",
    "\n",
    "env.close()\n",
    "\n",
    "print(f\"Total reward after {n_episodes} episodes: {total_reward}\")\n"
   ]
  },
  {
   "cell_type": "markdown",
   "id": "cb261321",
   "metadata": {
    "id": "cb261321"
   },
   "source": [
    "## Compare and comment on the rewards earned for both approaches."
   ]
  },
  {
   "cell_type": "markdown",
   "id": "4c3a6067",
   "metadata": {
    "id": "4c3a6067"
   },
   "source": [
    "##### In the first approach, the env is run for n steps and the total reward during these steps is relatively low due to the agent not learning and only exploring randomly, leading to many resets within the n steps. The episode ends when the environment reaches a \"done\" condition (e.g., the pole falls or the cart moves too far)"
   ]
  },
  {
   "cell_type": "markdown",
   "id": "04c248a6",
   "metadata": {
    "id": "04c248a6"
   },
   "source": [
    "##### In the second approach, the env is run for n episodes and the total reward varies for each episode but is relatively higer as each episode offers more time for the agent to earn rewards by balancing the pole, despite taking random actions."
   ]
  },
  {
   "cell_type": "markdown",
   "id": "c174e285",
   "metadata": {
    "id": "c174e285"
   },
   "source": [
    " ## Plot the cumulative reward of the games and note down the results."
   ]
  },
  {
   "cell_type": "code",
   "execution_count": null,
   "id": "d4bbc38c",
   "metadata": {
    "id": "d4bbc38c",
    "outputId": "5cf28fa2-0dc0-452f-86c8-f002b319fea1"
   },
   "outputs": [
    {
     "data": {
      "image/png": "[encoded data removed]",
      "text/plain": [
       "<Figure size 504x360 with 1 Axes>"
      ]
     },
     "metadata": {
      "needs_background": "light"
     },
     "output_type": "display_data"
    }
   ],
   "source": [
    "plt.figure(figsize=(7, 5))\n",
    "plt.plot(range(1, len(reward_per_step) + 1), reward_per_step, label=\"Cumulative Reward per Step\", color='blue')\n",
    "plt.xlabel('Step')\n",
    "plt.ylabel('Cumulative Reward')\n",
    "plt.title('Cumulative Reward per Step over 1000 Steps')\n",
    "plt.grid(True)\n",
    "plt.legend()\n",
    "\n",
    "plt.show()"
   ]
  },
  {
   "cell_type": "code",
   "execution_count": null,
   "id": "6395975a",
   "metadata": {
    "id": "6395975a",
    "outputId": "56c83de8-1ba3-48cf-94e9-c8eef3f13d6d"
   },
   "outputs": [
    {
     "data": {
      "image/png": "[encoded data removed]",
      "text/plain": [
       "<Figure size 504x360 with 1 Axes>"
      ]
     },
     "metadata": {
      "needs_background": "light"
     },
     "output_type": "display_data"
    }
   ],
   "source": [
    "plt.figure(figsize=(7, 5))\n",
    "plt.plot(range(1, n_episodes + 1), episode_rewards, label=\"Total Reward per Episode\", marker='o', color='green')\n",
    "plt.xlabel('Episode')\n",
    "plt.ylabel('Total Reward')\n",
    "plt.title('Total Reward per Episode over 20 Episodes')\n",
    "plt.grid(True)\n",
    "plt.legend()\n",
    "plt.show()\n"
   ]
  }
 ],
 "metadata": {
  "colab": {
   "provenance": []
  },
  "kernelspec": {
   "display_name": "Python 3 (ipykernel)",
   "language": "python",
   "name": "python3"
  },
  "language_info": {
   "codemirror_mode": {
    "name": "ipython",
    "version": 3
   },
   "file_extension": ".py",
   "mimetype": "text/x-python",
   "name": "python",
   "nbconvert_exporter": "python",
   "pygments_lexer": "ipython3",
   "version": "3.11.3"
  }
 },
 "nbformat": 4,
 "nbformat_minor": 5
}
