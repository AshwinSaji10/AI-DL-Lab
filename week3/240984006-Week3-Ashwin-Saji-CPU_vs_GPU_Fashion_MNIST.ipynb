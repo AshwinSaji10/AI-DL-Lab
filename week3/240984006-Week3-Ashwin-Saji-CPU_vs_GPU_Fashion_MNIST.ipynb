{
 "cells": [
  {
   "cell_type": "markdown",
   "metadata": {
    "id": "OoTrhYVp-QDI"
   },
   "source": [
    "Week 3:\n",
    "\n",
    "Program 2: Benchmark the performance of CPU versus GPU for training a deep learning model on the Fashion\n",
    "MNIST dataset. Specifically, compare the training times and performance metrics for models with:\n",
    "1. One hidden layer.\n",
    "2. Five hidden layers."
   ]
  },
  {
   "cell_type": "markdown",
   "metadata": {
    "id": "mvVtSLDuA7DQ"
   },
   "source": [
    "Ashwin Saji(240984006)"
   ]
  },
  {
   "cell_type": "code",
   "execution_count": null,
   "metadata": {
    "id": "0rdGqsiY9Iew"
   },
   "outputs": [],
   "source": [
    "import tensorflow as tf\n",
    "from tensorflow import keras\n",
    "import matplotlib.pyplot as plt\n",
    "import numpy as np"
   ]
  },
  {
   "cell_type": "code",
   "execution_count": null,
   "metadata": {
    "colab": {
     "base_uri": "https://localhost:8080/"
    },
    "executionInfo": {
     "elapsed": 819,
     "status": "ok",
     "timestamp": 1738405935657,
     "user": {
      "displayName": "Aswin Saji",
      "userId": "17186965396314477825"
     },
     "user_tz": -330
    },
    "id": "MkuPoRRf9Iex",
    "outputId": "d363ca13-c122-4bf6-b3d3-8d77b6047316",
    "scrolled": true
   },
   "outputs": [
    {
     "data": {
      "text/plain": [
       "[PhysicalDevice(name='/physical_device:CPU:0', device_type='CPU'),\n",
       " PhysicalDevice(name='/physical_device:GPU:0', device_type='GPU')]"
      ]
     },
     "execution_count": 4,
     "metadata": {},
     "output_type": "execute_result"
    }
   ],
   "source": [
    "tf.config.experimental.list_physical_devices()"
   ]
  },
  {
   "cell_type": "code",
   "execution_count": null,
   "metadata": {
    "colab": {
     "base_uri": "https://localhost:8080/",
     "height": 35
    },
    "executionInfo": {
     "elapsed": 7,
     "status": "ok",
     "timestamp": 1738405935657,
     "user": {
      "displayName": "Aswin Saji",
      "userId": "17186965396314477825"
     },
     "user_tz": -330
    },
    "id": "H-z6xKMQ9Iey",
    "outputId": "1cce012f-d610-4726-e11b-b292a673e562"
   },
   "outputs": [
    {
     "data": {
      "application/vnd.google.colaboratory.intrinsic+json": {
       "type": "string"
      },
      "text/plain": [
       "'2.18.0'"
      ]
     },
     "execution_count": 5,
     "metadata": {},
     "output_type": "execute_result"
    }
   ],
   "source": [
    "tf.__version__"
   ]
  },
  {
   "cell_type": "code",
   "execution_count": null,
   "metadata": {
    "colab": {
     "base_uri": "https://localhost:8080/"
    },
    "executionInfo": {
     "elapsed": 6,
     "status": "ok",
     "timestamp": 1738405935657,
     "user": {
      "displayName": "Aswin Saji",
      "userId": "17186965396314477825"
     },
     "user_tz": -330
    },
    "id": "ZfGEx54u9Iey",
    "outputId": "e8332164-8b25-42ed-aa84-4c7cca87028a"
   },
   "outputs": [
    {
     "data": {
      "text/plain": [
       "True"
      ]
     },
     "execution_count": 6,
     "metadata": {},
     "output_type": "execute_result"
    }
   ],
   "source": [
    "tf.test.is_built_with_cuda()"
   ]
  },
  {
   "cell_type": "markdown",
   "metadata": {
    "id": "tAhoHd00BDaQ"
   },
   "source": [
    "<h4 style=\"color:purple\">Load the Dataset</h4>"
   ]
  },
  {
   "cell_type": "code",
   "execution_count": null,
   "metadata": {
    "colab": {
     "base_uri": "https://localhost:8080/"
    },
    "executionInfo": {
     "elapsed": 4705,
     "status": "ok",
     "timestamp": 1738405940358,
     "user": {
      "displayName": "Aswin Saji",
      "userId": "17186965396314477825"
     },
     "user_tz": -330
    },
    "id": "G4tIGQmG9Iez",
    "outputId": "81ccdb2d-dc55-4125-930a-612b65466c3c"
   },
   "outputs": [
    {
     "name": "stdout",
     "output_type": "stream",
     "text": [
      "Downloading data from https://storage.googleapis.com/tensorflow/tf-keras-datasets/train-labels-idx1-ubyte.gz\n",
      "\u001b[1m29515/29515\u001b[0m \u001b[32m━━━━━━━━━━━━━━━━━━━━\u001b[0m\u001b[37m\u001b[0m \u001b[1m0s\u001b[0m 0us/step\n",
      "Downloading data from https://storage.googleapis.com/tensorflow/tf-keras-datasets/train-images-idx3-ubyte.gz\n",
      "\u001b[1m26421880/26421880\u001b[0m \u001b[32m━━━━━━━━━━━━━━━━━━━━\u001b[0m\u001b[37m\u001b[0m \u001b[1m1s\u001b[0m 0us/step\n",
      "Downloading data from https://storage.googleapis.com/tensorflow/tf-keras-datasets/t10k-labels-idx1-ubyte.gz\n",
      "\u001b[1m5148/5148\u001b[0m \u001b[32m━━━━━━━━━━━━━━━━━━━━\u001b[0m\u001b[37m\u001b[0m \u001b[1m0s\u001b[0m 0us/step\n",
      "Downloading data from https://storage.googleapis.com/tensorflow/tf-keras-datasets/t10k-images-idx3-ubyte.gz\n",
      "\u001b[1m4422102/4422102\u001b[0m \u001b[32m━━━━━━━━━━━━━━━━━━━━\u001b[0m\u001b[37m\u001b[0m \u001b[1m1s\u001b[0m 0us/step\n"
     ]
    }
   ],
   "source": [
    "(X_train, y_train), (X_test,y_test) = tf.keras.datasets.fashion_mnist.load_data()"
   ]
  },
  {
   "cell_type": "code",
   "execution_count": null,
   "metadata": {
    "colab": {
     "base_uri": "https://localhost:8080/"
    },
    "executionInfo": {
     "elapsed": 9,
     "status": "ok",
     "timestamp": 1738405940358,
     "user": {
      "displayName": "Aswin Saji",
      "userId": "17186965396314477825"
     },
     "user_tz": -330
    },
    "id": "nmTUboNm9Iez",
    "outputId": "be108642-0281-4215-d0c8-d152aa4e8474"
   },
   "outputs": [
    {
     "data": {
      "text/plain": [
       "(60000, 28, 28)"
      ]
     },
     "execution_count": 8,
     "metadata": {},
     "output_type": "execute_result"
    }
   ],
   "source": [
    "X_train.shape"
   ]
  },
  {
   "cell_type": "code",
   "execution_count": null,
   "metadata": {
    "colab": {
     "base_uri": "https://localhost:8080/"
    },
    "executionInfo": {
     "elapsed": 8,
     "status": "ok",
     "timestamp": 1738405940358,
     "user": {
      "displayName": "Aswin Saji",
      "userId": "17186965396314477825"
     },
     "user_tz": -330
    },
    "id": "8r_MsVot9Iez",
    "outputId": "a9f53d02-cf67-4286-ac78-58c86ff606f5",
    "scrolled": true
   },
   "outputs": [
    {
     "data": {
      "text/plain": [
       "(60000,)"
      ]
     },
     "execution_count": 9,
     "metadata": {},
     "output_type": "execute_result"
    }
   ],
   "source": [
    "y_train.shape"
   ]
  },
  {
   "cell_type": "markdown",
   "metadata": {
    "id": "X9Yr3qGw9Iez"
   },
   "source": [
    "<h4 style=\"color:purple\">Data Visualization</h4>"
   ]
  },
  {
   "cell_type": "code",
   "execution_count": null,
   "metadata": {
    "id": "q3LLFlro9Iez"
   },
   "outputs": [],
   "source": [
    "def plot_sample(index):\n",
    "    plt.figure(figsize = (10,1))\n",
    "    plt.imshow(X_train[index])"
   ]
  },
  {
   "cell_type": "code",
   "execution_count": null,
   "metadata": {
    "colab": {
     "base_uri": "https://localhost:8080/",
     "height": 141
    },
    "executionInfo": {
     "elapsed": 5,
     "status": "ok",
     "timestamp": 1738405940358,
     "user": {
      "displayName": "Aswin Saji",
      "userId": "17186965396314477825"
     },
     "user_tz": -330
    },
    "id": "bAScl5Xk9Iez",
    "outputId": "cf369201-68e2-4708-a1d0-f63928ae15a3"
   },
   "outputs": [
    {
     "data": {
      "image/png": "[encoded data removed]",
      "text/plain": [
       "<Figure size 1000x100 with 1 Axes>"
      ]
     },
     "metadata": {},
     "output_type": "display_data"
    }
   ],
   "source": [
    "plot_sample(0)"
   ]
  },
  {
   "cell_type": "code",
   "execution_count": null,
   "metadata": {
    "colab": {
     "base_uri": "https://localhost:8080/",
     "height": 141
    },
    "executionInfo": {
     "elapsed": 5,
     "status": "ok",
     "timestamp": 1738405940358,
     "user": {
      "displayName": "Aswin Saji",
      "userId": "17186965396314477825"
     },
     "user_tz": -330
    },
    "id": "CCUBfEom9Iez",
    "outputId": "eb0916d4-6f54-4bad-cf9d-f2313c083141"
   },
   "outputs": [
    {
     "data": {
      "image/png": "[encoded data removed]",
      "text/plain": [
       "<Figure size 1000x100 with 1 Axes>"
      ]
     },
     "metadata": {},
     "output_type": "display_data"
    }
   ],
   "source": [
    "plot_sample(1)"
   ]
  },
  {
   "cell_type": "code",
   "execution_count": null,
   "metadata": {
    "colab": {
     "base_uri": "https://localhost:8080/",
     "height": 141
    },
    "executionInfo": {
     "elapsed": 5,
     "status": "ok",
     "timestamp": 1738405940359,
     "user": {
      "displayName": "Aswin Saji",
      "userId": "17186965396314477825"
     },
     "user_tz": -330
    },
    "id": "V7iqYu-e9Iez",
    "outputId": "f5fb80b5-81fa-4619-9443-a339b8e80db6",
    "scrolled": true
   },
   "outputs": [
    {
     "data": {
      "image/png": "[encoded data removed]",
      "text/plain": [
       "<Figure size 1000x100 with 1 Axes>"
      ]
     },
     "metadata": {},
     "output_type": "display_data"
    }
   ],
   "source": [
    "plot_sample(2)"
   ]
  },
  {
   "cell_type": "code",
   "execution_count": null,
   "metadata": {
    "id": "By0ZTqQt9Ie0"
   },
   "outputs": [],
   "source": [
    "classes = [\"T-shirt/top\", \"Trouser\", \"Pullover\", \"Dress\", \"Coat\", \"Sandal\", \"Shirt\", \"Sneaker\", \"Bag\", \"Ankle boot\"]"
   ]
  },
  {
   "cell_type": "code",
   "execution_count": null,
   "metadata": {
    "colab": {
     "base_uri": "https://localhost:8080/",
     "height": 141
    },
    "executionInfo": {
     "elapsed": 599,
     "status": "ok",
     "timestamp": 1738405940953,
     "user": {
      "displayName": "Aswin Saji",
      "userId": "17186965396314477825"
     },
     "user_tz": -330
    },
    "id": "YU6hOczo9Ie0",
    "outputId": "07ccc545-4172-4c2e-cba1-43c168dde7af",
    "scrolled": true
   },
   "outputs": [
    {
     "data": {
      "image/png": "[encoded data removed]",
      "text/plain": [
       "<Figure size 1000x100 with 1 Axes>"
      ]
     },
     "metadata": {},
     "output_type": "display_data"
    }
   ],
   "source": [
    "plot_sample(3)"
   ]
  },
  {
   "cell_type": "code",
   "execution_count": null,
   "metadata": {
    "colab": {
     "base_uri": "https://localhost:8080/",
     "height": 35
    },
    "executionInfo": {
     "elapsed": 7,
     "status": "ok",
     "timestamp": 1738405940953,
     "user": {
      "displayName": "Aswin Saji",
      "userId": "17186965396314477825"
     },
     "user_tz": -330
    },
    "id": "5Dl7i-4Q9Ie0",
    "outputId": "ac46cfa5-1e0b-4cea-9dfb-8f43b82675bd"
   },
   "outputs": [
    {
     "data": {
      "application/vnd.google.colaboratory.intrinsic+json": {
       "type": "string"
      },
      "text/plain": [
       "'Dress'"
      ]
     },
     "execution_count": 16,
     "metadata": {},
     "output_type": "execute_result"
    }
   ],
   "source": [
    "classes[y_train[3]]"
   ]
  },
  {
   "cell_type": "code",
   "execution_count": null,
   "metadata": {
    "colab": {
     "base_uri": "https://localhost:8080/"
    },
    "executionInfo": {
     "elapsed": 7,
     "status": "ok",
     "timestamp": 1738405940954,
     "user": {
      "displayName": "Aswin Saji",
      "userId": "17186965396314477825"
     },
     "user_tz": -330
    },
    "id": "B-KHENiM9Ie0",
    "outputId": "793e5159-d6c8-4fba-f4d7-fd45e3c14bc2",
    "scrolled": true
   },
   "outputs": [
    {
     "data": {
      "text/plain": [
       "array([9, 0, 0], dtype=uint8)"
      ]
     },
     "execution_count": 17,
     "metadata": {},
     "output_type": "execute_result"
    }
   ],
   "source": [
    "y_train[:3]"
   ]
  },
  {
   "cell_type": "code",
   "execution_count": null,
   "metadata": {
    "colab": {
     "base_uri": "https://localhost:8080/"
    },
    "executionInfo": {
     "elapsed": 6,
     "status": "ok",
     "timestamp": 1738405940954,
     "user": {
      "displayName": "Aswin Saji",
      "userId": "17186965396314477825"
     },
     "user_tz": -330
    },
    "id": "i8Nbq9RJ9Ie0",
    "outputId": "96dee0c1-b94c-46c2-f1c5-678750f74b01"
   },
   "outputs": [
    {
     "data": {
      "text/plain": [
       "(10000,)"
      ]
     },
     "execution_count": 18,
     "metadata": {},
     "output_type": "execute_result"
    }
   ],
   "source": [
    "y_test.shape"
   ]
  },
  {
   "cell_type": "code",
   "execution_count": null,
   "metadata": {
    "colab": {
     "base_uri": "https://localhost:8080/"
    },
    "executionInfo": {
     "elapsed": 5,
     "status": "ok",
     "timestamp": 1738405940954,
     "user": {
      "displayName": "Aswin Saji",
      "userId": "17186965396314477825"
     },
     "user_tz": -330
    },
    "id": "ls4MILJ69Ie0",
    "outputId": "6f1dc37c-8d6b-4455-a5f2-930a1b5d2dc2",
    "scrolled": true
   },
   "outputs": [
    {
     "data": {
      "text/plain": [
       "(60000, 28, 28)"
      ]
     },
     "execution_count": 19,
     "metadata": {},
     "output_type": "execute_result"
    }
   ],
   "source": [
    "X_train.shape"
   ]
  },
  {
   "cell_type": "markdown",
   "metadata": {
    "id": "H2halZpI9Ie0"
   },
   "source": [
    "<h4 style=\"color:purple\">Preprocessing: Scale images</h4>"
   ]
  },
  {
   "cell_type": "code",
   "execution_count": null,
   "metadata": {
    "id": "agB9aR6w9Ie0",
    "scrolled": true
   },
   "outputs": [],
   "source": [
    "X_train_scaled = X_train / 255\n",
    "X_test_scaled = X_test / 255"
   ]
  },
  {
   "cell_type": "code",
   "execution_count": null,
   "metadata": {
    "id": "AfqVT9_P9Ie0"
   },
   "outputs": [],
   "source": [
    "# y_train_categorical = keras.utils.to_categorical(\n",
    "#     y_train, num_classes=10, dtype='float32'\n",
    "# )\n",
    "# y_test_categorical = keras.utils.to_categorical(\n",
    "#     y_test, num_classes=10, dtype='float32'\n",
    "# )"
   ]
  },
  {
   "cell_type": "code",
   "execution_count": null,
   "metadata": {
    "colab": {
     "base_uri": "https://localhost:8080/"
    },
    "executionInfo": {
     "elapsed": 4,
     "status": "ok",
     "timestamp": 1738405940954,
     "user": {
      "displayName": "Aswin Saji",
      "userId": "17186965396314477825"
     },
     "user_tz": -330
    },
    "id": "MOvMzBuI9Ie0",
    "outputId": "29bd5ec3-4cc9-4dc3-e07d-35f2119347ce"
   },
   "outputs": [
    {
     "data": {
      "text/plain": [
       "array([9, 0, 0, 3, 0], dtype=uint8)"
      ]
     },
     "execution_count": 22,
     "metadata": {},
     "output_type": "execute_result"
    }
   ],
   "source": [
    "y_train[0:5]"
   ]
  },
  {
   "cell_type": "code",
   "execution_count": null,
   "metadata": {
    "id": "Gt4I27U-9Ie0",
    "scrolled": true
   },
   "outputs": [],
   "source": [
    "# y_train_categorical[0:5]"
   ]
  },
  {
   "cell_type": "markdown",
   "metadata": {
    "id": "C05KV4q29Ie0"
   },
   "source": [
    "<h4 style=\"color:purple\">Model building and training</h4>"
   ]
  },
  {
   "cell_type": "code",
   "execution_count": null,
   "metadata": {
    "colab": {
     "base_uri": "https://localhost:8080/"
    },
    "executionInfo": {
     "elapsed": 143479,
     "status": "ok",
     "timestamp": 1738404780715,
     "user": {
      "displayName": "Aswin Saji",
      "userId": "17186965396314477825"
     },
     "user_tz": -330
    },
    "id": "bXiKpaFi9Ie0",
    "outputId": "53ee1613-3028-4c86-dec0-bd0943f98b99",
    "scrolled": true
   },
   "outputs": [
    {
     "name": "stdout",
     "output_type": "stream",
     "text": [
      "\u001b[1m1875/1875\u001b[0m \u001b[32m━━━━━━━━━━━━━━━━━━━━\u001b[0m\u001b[37m\u001b[0m \u001b[1m88s\u001b[0m 47ms/step - accuracy: 0.7323 - loss: 0.8600\n"
     ]
    },
    {
     "data": {
      "text/plain": [
       "<keras.src.callbacks.history.History at 0x780fcdcf1190>"
      ]
     },
     "execution_count": 27,
     "metadata": {},
     "output_type": "execute_result"
    }
   ],
   "source": [
    "model = keras.Sequential([\n",
    "    keras.layers.Flatten(input_shape=(28, 28, 1)),\n",
    "    keras.layers.Dense(3000, activation='relu'),\n",
    "    keras.layers.Dense(1000, activation='relu'),\n",
    "    keras.layers.Dense(10, activation='softmax')\n",
    "])\n",
    "\n",
    "model.compile(optimizer='SGD',\n",
    "              loss='sparse_categorical_crossentropy',\n",
    "              metrics=['accuracy'])\n",
    "\n",
    "model.fit(X_train_scaled, y_train, epochs=1)"
   ]
  },
  {
   "cell_type": "markdown",
   "metadata": {
    "id": "-lBCkpc89Ie0"
   },
   "source": [
    "<h4 style=\"color:purple\">Predictions</h4>"
   ]
  },
  {
   "cell_type": "code",
   "execution_count": null,
   "metadata": {
    "colab": {
     "base_uri": "https://localhost:8080/"
    },
    "executionInfo": {
     "elapsed": 4515,
     "status": "ok",
     "timestamp": 1738404817262,
     "user": {
      "displayName": "Aswin Saji",
      "userId": "17186965396314477825"
     },
     "user_tz": -330
    },
    "id": "NwmULpVu9Ie0",
    "outputId": "bf0c71aa-8381-4713-dd6a-8cac614f0c19"
   },
   "outputs": [
    {
     "name": "stdout",
     "output_type": "stream",
     "text": [
      "\u001b[1m313/313\u001b[0m \u001b[32m━━━━━━━━━━━━━━━━━━━━\u001b[0m\u001b[37m\u001b[0m \u001b[1m4s\u001b[0m 13ms/step\n"
     ]
    },
    {
     "data": {
      "text/plain": [
       "9"
      ]
     },
     "execution_count": 28,
     "metadata": {},
     "output_type": "execute_result"
    }
   ],
   "source": [
    "np.argmax(model.predict(X_test_scaled)[0])"
   ]
  },
  {
   "cell_type": "code",
   "execution_count": null,
   "metadata": {
    "colab": {
     "base_uri": "https://localhost:8080/"
    },
    "executionInfo": {
     "elapsed": 388,
     "status": "ok",
     "timestamp": 1738404821924,
     "user": {
      "displayName": "Aswin Saji",
      "userId": "17186965396314477825"
     },
     "user_tz": -330
    },
    "id": "sJ6_t8cK9Ie0",
    "outputId": "ffd7edcd-17cf-4b13-db2f-477ba2c0e5e1"
   },
   "outputs": [
    {
     "data": {
      "text/plain": [
       "9"
      ]
     },
     "execution_count": 29,
     "metadata": {},
     "output_type": "execute_result"
    }
   ],
   "source": [
    "y_test[0]"
   ]
  },
  {
   "cell_type": "code",
   "execution_count": null,
   "metadata": {
    "id": "Gq928DTV9Ie1"
   },
   "outputs": [],
   "source": [
    "def get_1_hidden_layer_model():\n",
    "    model = keras.Sequential([\n",
    "    keras.layers.Flatten(input_shape=(28, 28, 1)),\n",
    "    keras.layers.Dense(2048, activation='relu'),\n",
    "    keras.layers.Dense(10, activation='softmax')\n",
    "])\n",
    "\n",
    "    model.compile(optimizer='SGD',\n",
    "              loss='sparse_categorical_crossentropy',\n",
    "              metrics=['accuracy'])\n",
    "    return model"
   ]
  },
  {
   "cell_type": "code",
   "execution_count": null,
   "metadata": {
    "id": "MazyAsfUAYuA"
   },
   "outputs": [],
   "source": [
    "def get_5_hidden_layers_model():\n",
    "    model = keras.Sequential([\n",
    "    keras.layers.Flatten(input_shape=(28, 28, 1)),\n",
    "    keras.layers.Dense(2048, activation='relu'),\n",
    "    keras.layers.Dense(1024, activation='relu'),\n",
    "    keras.layers.Dense(512, activation='relu'),\n",
    "    keras.layers.Dense(512, activation='relu'),\n",
    "    keras.layers.Dense(128, activation='relu'),\n",
    "    keras.layers.Dense(10, activation='softmax')\n",
    "])\n",
    "\n",
    "    model.compile(optimizer='SGD',\n",
    "              loss='sparse_categorical_crossentropy',\n",
    "              metrics=['accuracy'])\n",
    "    return model"
   ]
  },
  {
   "cell_type": "markdown",
   "metadata": {
    "id": "Tzj6b9EE9Ie1"
   },
   "source": [
    "<h3 style='color:purple'>Measure training time on a CPU<h3>"
   ]
  },
  {
   "cell_type": "markdown",
   "metadata": {
    "id": "4VZVswscAroP"
   },
   "source": [
    "1 hidden layer model"
   ]
  },
  {
   "cell_type": "code",
   "execution_count": null,
   "metadata": {
    "colab": {
     "base_uri": "https://localhost:8080/"
    },
    "executionInfo": {
     "elapsed": 42385,
     "status": "ok",
     "timestamp": 1738405651793,
     "user": {
      "displayName": "Aswin Saji",
      "userId": "17186965396314477825"
     },
     "user_tz": -330
    },
    "id": "fc-gJRBd9Ie1",
    "outputId": "8fa837ea-3320-4c02-fbb1-373bc793bddf",
    "scrolled": true
   },
   "outputs": [
    {
     "name": "stdout",
     "output_type": "stream",
     "text": [
      "\u001b[1m1875/1875\u001b[0m \u001b[32m━━━━━━━━━━━━━━━━━━━━\u001b[0m\u001b[37m\u001b[0m \u001b[1m23s\u001b[0m 12ms/step - accuracy: 0.7266 - loss: 0.8951\n",
      "41.9 s ± 0 ns per loop (mean ± std. dev. of 1 run, 1 loop each)\n"
     ]
    }
   ],
   "source": [
    "%%timeit -n1 -r1\n",
    "with tf.device('/CPU:0'):\n",
    "    cpu_model = get_1_hidden_layer_model()\n",
    "    cpu_model.fit(X_train_scaled, y_train, epochs=1)"
   ]
  },
  {
   "cell_type": "markdown",
   "metadata": {
    "id": "DJqezvLqAwEe"
   },
   "source": [
    "5 hidden layers model"
   ]
  },
  {
   "cell_type": "code",
   "execution_count": null,
   "metadata": {
    "colab": {
     "base_uri": "https://localhost:8080/"
    },
    "executionInfo": {
     "elapsed": 83327,
     "status": "ok",
     "timestamp": 1738405799028,
     "user": {
      "displayName": "Aswin Saji",
      "userId": "17186965396314477825"
     },
     "user_tz": -330
    },
    "id": "8MXBgHDUBbQQ",
    "outputId": "9b6e9910-5d79-496e-d065-ae7f9fe32961"
   },
   "outputs": [
    {
     "name": "stdout",
     "output_type": "stream",
     "text": [
      "\u001b[1m1875/1875\u001b[0m \u001b[32m━━━━━━━━━━━━━━━━━━━━\u001b[0m\u001b[37m\u001b[0m \u001b[1m82s\u001b[0m 43ms/step - accuracy: 0.6925 - loss: 0.9556\n",
      "1min 23s ± 0 ns per loop (mean ± std. dev. of 1 run, 1 loop each)\n"
     ]
    }
   ],
   "source": [
    "%%timeit -n1 -r1\n",
    "with tf.device('/CPU:0'):\n",
    "    cpu_model = get_5_hidden_layers_model()\n",
    "    cpu_model.fit(X_train_scaled, y_train, epochs=1)"
   ]
  },
  {
   "cell_type": "markdown",
   "metadata": {
    "id": "yNCrKyE39Ie1"
   },
   "source": [
    "<h3 style='color:purple'>Measure training time on a GPU<h3>"
   ]
  },
  {
   "cell_type": "markdown",
   "metadata": {
    "id": "fHgaGQh6CY7w"
   },
   "source": [
    "1 hidden layer"
   ]
  },
  {
   "cell_type": "code",
   "execution_count": null,
   "metadata": {
    "colab": {
     "base_uri": "https://localhost:8080/"
    },
    "executionInfo": {
     "elapsed": 12933,
     "status": "ok",
     "timestamp": 1738405964508,
     "user": {
      "displayName": "Aswin Saji",
      "userId": "17186965396314477825"
     },
     "user_tz": -330
    },
    "id": "-C3VzbGs9Ie1",
    "outputId": "e05ba4bd-c3d3-4f74-a9f5-4a7be3303dd0"
   },
   "outputs": [
    {
     "name": "stderr",
     "output_type": "stream",
     "text": [
      "/usr/local/lib/python3.11/dist-packages/keras/src/layers/reshaping/flatten.py:37: UserWarning: Do not pass an `input_shape`/`input_dim` argument to a layer. When using Sequential models, prefer using an `Input(shape)` object as the first layer in the model instead.\n",
      "  super().__init__(**kwargs)\n"
     ]
    },
    {
     "name": "stdout",
     "output_type": "stream",
     "text": [
      "\u001b[1m1875/1875\u001b[0m \u001b[32m━━━━━━━━━━━━━━━━━━━━\u001b[0m\u001b[37m\u001b[0m \u001b[1m6s\u001b[0m 2ms/step - accuracy: 0.7217 - loss: 0.9135\n",
      "12.6 s ± 0 ns per loop (mean ± std. dev. of 1 run, 1 loop each)\n"
     ]
    }
   ],
   "source": [
    "%%timeit -n1 -r1\n",
    "with tf.device('/GPU:0'):\n",
    "    cpu_model = get_1_hidden_layer_model()\n",
    "    cpu_model.fit(X_train_scaled, y_train, epochs=1)"
   ]
  },
  {
   "cell_type": "markdown",
   "metadata": {
    "id": "K-buFbRzCh6n"
   },
   "source": [
    "5 hidden layers"
   ]
  },
  {
   "cell_type": "code",
   "execution_count": null,
   "metadata": {
    "colab": {
     "base_uri": "https://localhost:8080/"
    },
    "executionInfo": {
     "elapsed": 8079,
     "status": "ok",
     "timestamp": 1738405978248,
     "user": {
      "displayName": "Aswin Saji",
      "userId": "17186965396314477825"
     },
     "user_tz": -330
    },
    "id": "5G3zzVFmCk3v",
    "outputId": "cec49b07-3c5d-46f2-ea2f-ec2231c332fb"
   },
   "outputs": [
    {
     "name": "stdout",
     "output_type": "stream",
     "text": [
      "\u001b[1m1875/1875\u001b[0m \u001b[32m━━━━━━━━━━━━━━━━━━━━\u001b[0m\u001b[37m\u001b[0m \u001b[1m7s\u001b[0m 3ms/step - accuracy: 0.6741 - loss: 0.9726\n",
      "7.52 s ± 0 ns per loop (mean ± std. dev. of 1 run, 1 loop each)\n"
     ]
    }
   ],
   "source": [
    "%%timeit -n1 -r1\n",
    "with tf.device('/GPU:0'):\n",
    "    cpu_model = get_5_hidden_layers_model()\n",
    "    cpu_model.fit(X_train_scaled, y_train, epochs=1)"
   ]
  },
  {
   "cell_type": "markdown",
   "metadata": {
    "id": "xYQ5PxN99Ie4"
   },
   "source": [
    "Performance comparison between CPU and GPU,\n",
    "\n",
    "| Hidden layers | CPU | GPU  |\n",
    "|:------|:------|:------|\n",
    "| 1 | 41.9 sec | 12.6 sec |\n",
    "| 5 | 83 sec | 7.52 sec |\n",
    "\n",
    "Remarks: GPU is significantly faster than the CPU providing nearly 3-4 times faster speeds for single hidden layer and 11-12 tines faster speeds for 5 hidden layers\n",
    "\n",
    "Effect of increasing hidden layers on CPU and GPU: Increasing hidden layers increased training time significantly on the CPU whereas decreased training time on the GPU.\n",
    "\n",
    "When to use GPU: The GPU can be used when the dataset is large or when a large number of neurons and hidden layers are involved or when training for a large number of epochs."
   ]
  }
 ],
 "metadata": {
  "colab": {
   "provenance": []
  },
  "kernelspec": {
   "display_name": "Python 3 (ipykernel)",
   "language": "python",
   "name": "python3"
  },
  "language_info": {
   "codemirror_mode": {
    "name": "ipython",
    "version": 3
   },
   "file_extension": ".py",
   "mimetype": "text/x-python",
   "name": "python",
   "nbconvert_exporter": "python",
   "pygments_lexer": "ipython3",
   "version": "3.11.3"
  }
 },
 "nbformat": 4,
 "nbformat_minor": 4
}
